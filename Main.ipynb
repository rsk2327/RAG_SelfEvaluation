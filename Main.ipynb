{
 "cells": [
  {
   "cell_type": "code",
   "execution_count": 306,
   "id": "d32459d0-cc06-4b49-b435-dcfcec6eb6bd",
   "metadata": {},
   "outputs": [],
   "source": [
    "import pandas as pd\n",
    "import numpy as np\n",
    "import os\n",
    "from io import StringIO \n",
    "import json\n",
    "\n",
    "\n",
    "\n",
    "from enum import Enum\n",
    "\n",
    "from langchain.document_loaders import HuggingFaceDatasetLoader\n",
    "from langchain.text_splitter import RecursiveCharacterTextSplitter\n",
    "from langchain_experimental.text_splitter import SemanticChunker\n",
    "from langchain.embeddings import HuggingFaceEmbeddings\n",
    "from langchain_core.output_parsers import JsonOutputParser\n",
    "from transformers import AutoTokenizer, AutoModelForQuestionAnswering\n",
    "from transformers import AutoTokenizer, pipeline\n",
    "from langchain import HuggingFacePipeline\n",
    "from langchain.chains import RetrievalQA\n",
    "from langchain_community.document_loaders import PyPDFLoader\n",
    "from langchain_community.vectorstores import FAISS, Chroma\n",
    "from langchain_openai import OpenAIEmbeddings, ChatOpenAI\n",
    "from langchain_core.runnables import RunnablePassthrough\n",
    "from langchain_core.pydantic_v1 import BaseModel, Field\n",
    "from langchain.prompts import ChatPromptTemplate, PromptTemplate\n",
    "from langchain_community.vectorstores.faiss import DistanceStrategy\n",
    "from langchain_pinecone import PineconeVectorStore\n",
    "\n",
    "\n",
    "from utils import *\n",
    "from main import *\n",
    "\n",
    "%reload_ext autoreload\n",
    "%autoreload 2\n",
    "\n",
    "from openai import OpenAI\n"
   ]
  },
  {
   "cell_type": "code",
   "execution_count": 307,
   "id": "faa20adc-adff-4cec-b299-92e03017ee78",
   "metadata": {},
   "outputs": [],
   "source": [
    "MODEL = 'gpt-3.5-turbo-0301'\n",
    "BASE_FOLDER = \"./test_data\"\n",
    "QUESTION_FILE =  \"document_questions.xlsx\"\n",
    "RAW_DATA_FOLDER = \"raw_text\"\n",
    "\n",
    "client = OpenAI(api_key=os.environ.get(\"OPENAI_API_KEY\"))"
   ]
  },
  {
   "cell_type": "markdown",
   "id": "069bec74-644c-4eae-a0b5-91df9d980a0d",
   "metadata": {},
   "source": [
    "# Testing get_context function"
   ]
  },
  {
   "cell_type": "code",
   "execution_count": 308,
   "id": "420a5cb5-c4ba-4d8a-aaac-02f673925b3b",
   "metadata": {},
   "outputs": [],
   "source": [
    "df = pd.read_excel(os.path.join(BASE_FOLDER, QUESTION_FILE))"
   ]
  },
  {
   "cell_type": "code",
   "execution_count": 309,
   "id": "47d6515f-fae3-48dd-a142-184326be5316",
   "metadata": {},
   "outputs": [
    {
     "data": {
      "text/html": [
       "<div>\n",
       "<style scoped>\n",
       "    .dataframe tbody tr th:only-of-type {\n",
       "        vertical-align: middle;\n",
       "    }\n",
       "\n",
       "    .dataframe tbody tr th {\n",
       "        vertical-align: top;\n",
       "    }\n",
       "\n",
       "    .dataframe thead th {\n",
       "        text-align: right;\n",
       "    }\n",
       "</style>\n",
       "<table border=\"1\" class=\"dataframe\">\n",
       "  <thead>\n",
       "    <tr style=\"text-align: right;\">\n",
       "      <th></th>\n",
       "      <th>document</th>\n",
       "      <th>relevant questions</th>\n",
       "    </tr>\n",
       "  </thead>\n",
       "  <tbody>\n",
       "    <tr>\n",
       "      <th>0</th>\n",
       "      <td>DR--185549702_INTRO</td>\n",
       "      <td>What is meant by \"computational finance\"?</td>\n",
       "    </tr>\n",
       "    <tr>\n",
       "      <th>1</th>\n",
       "      <td>NaN</td>\n",
       "      <td>What is meant by 'investor heterogeneity'?</td>\n",
       "    </tr>\n",
       "    <tr>\n",
       "      <th>2</th>\n",
       "      <td>NaN</td>\n",
       "      <td>What was the revolution witnessed by finance i...</td>\n",
       "    </tr>\n",
       "    <tr>\n",
       "      <th>3</th>\n",
       "      <td>NaN</td>\n",
       "      <td>Why do you think financial markets are viewed ...</td>\n",
       "    </tr>\n",
       "    <tr>\n",
       "      <th>4</th>\n",
       "      <td>NaN</td>\n",
       "      <td>Why are the financial markets appealing applic...</td>\n",
       "    </tr>\n",
       "  </tbody>\n",
       "</table>\n",
       "</div>"
      ],
      "text/plain": [
       "              document                                 relevant questions\n",
       "0  DR--185549702_INTRO          What is meant by \"computational finance\"?\n",
       "1                  NaN         What is meant by 'investor heterogeneity'?\n",
       "2                  NaN  What was the revolution witnessed by finance i...\n",
       "3                  NaN  Why do you think financial markets are viewed ...\n",
       "4                  NaN  Why are the financial markets appealing applic..."
      ]
     },
     "execution_count": 309,
     "metadata": {},
     "output_type": "execute_result"
    }
   ],
   "source": [
    "df.head()"
   ]
  },
  {
   "cell_type": "code",
   "execution_count": 310,
   "id": "06e9ac73-c228-4bb8-b23e-c5cc6501aba2",
   "metadata": {},
   "outputs": [],
   "source": [
    "docs = retrieve_pdf_docs(os.path.join(BASE_FOLDER,'pdfs'))"
   ]
  },
  {
   "cell_type": "code",
   "execution_count": 311,
   "id": "9f598ad4-7d52-4a05-8869-ee6f0bfddb1f",
   "metadata": {},
   "outputs": [
    {
     "data": {
      "text/plain": [
       "'What is meant by \"computational finance\"?'"
      ]
     },
     "execution_count": 311,
     "metadata": {},
     "output_type": "execute_result"
    }
   ],
   "source": [
    "question = df['relevant questions'].iloc[0]\n",
    "question"
   ]
  },
  {
   "cell_type": "markdown",
   "id": "fb2eabcb-d0e5-409c-82f9-f9f88fb274d2",
   "metadata": {},
   "source": [
    "### Querying with single splitting strategy"
   ]
  },
  {
   "cell_type": "code",
   "execution_count": 312,
   "id": "689e98f0-f6b3-4d37-a93f-9ab1eda54329",
   "metadata": {
    "scrolled": true
   },
   "outputs": [],
   "source": [
    "splitting_strategy = {'type':'recursive','params':{'chunk_size':1000,'chunk_overlap':200}}\n",
    "\n",
    "context = retrieve_context(docs, splitting_strategy, question, database = 'faiss', k = 3)"
   ]
  },
  {
   "cell_type": "code",
   "execution_count": 313,
   "id": "10703437-360c-45aa-a4f3-ce15246cb9d5",
   "metadata": {},
   "outputs": [
    {
     "data": {
      "text/plain": [
       "[Document(page_content='to ﬁnancial economists as it is potentially unappealing to ﬁnancial practitioners.1It is interesting to note\\nthat these foundations came with a very important computational dimension. The early availability of large\\nmachine-readable data sets, and the computational power to analyze them, laid the critical foundation for\\nthis new ﬁnancial rigor.2In agent-based computational models the computer is once again at the center\\nof a change in thinking about ﬁnancial markets. This time it is helping to pursue a world view in which\\nagents may diﬀer in many ways, not just in their information, but in their ability to process information,\\ntheir attitudes toward risk, and in many other dimensions.\\nModels in the realm of agent-based computational ﬁnance view ﬁnancial markets as interacting groups\\nof learning, boundedly-rational agents. The computer may or may not be a necessary tool to understand\\nthe dynamics of these markets. This survey will concentrate on the cases where analytic solutions would', metadata={'source': './test_data/pdfs/DR--185549702_INTRO.pdf', 'page': 2}),\n",
       " Document(page_content='Agent-based Computational Finance\\nBlake LeBaron∗\\nBrandeis University\\nApril 21st, 2005: Comments still welcome!\\nAbstract\\nThis chapter surveys research on agent-based models used in ﬁnance. It will concentrate on models\\nwhere the use of computational tools is critical for the process of crafting models which give insights into\\nthe importance and dynamics of investor heterogeneity in many ﬁnancial settings.\\n∗International Business School, Brandeis University, 415 South Street, Mailstop 32, Waltham, MA 02453 - 2728, ble-\\nbaron@brandeis.edu, www.brandeis.edu/∼blebaron. The author is also a research associate at the National Bureau of Economic\\nResearch. This is a preliminary draft for The Handbook of Computational Economics, vol. II, , edited by K. L. Judd and L.\\nTesfatsion. The author is grateful to many people who have made comments on earlier drafts. These include W. A. Brock,\\nCars Hommes, Leigh Tesfatsion, Frank Westerhoﬀ, and two anonymous referees.\\n1', metadata={'source': './test_data/pdfs/DR--185549702_INTRO.pdf', 'page': 0}),\n",
       " Document(page_content='that these foundations came with a very important computational dimension. The early availability of large\\nmachine-readable data sets, and the computational power to analyze them, laid the critical foundation for\\nthis new ﬁnancial rigor.2In agent-based computational models the computer is once again at the center\\nof a change in thinking about ﬁnancial markets. This time it is helping to pursue a world view in which\\nagents may diﬀer in many ways, not just in their information, but in their ability to process information,\\ntheir attitudes toward risk, and in many other dimensions.\\nModels in the realm of agent-based computational ﬁnance view ﬁnancial markets as interacting groups\\nof learning, boundedly-rational agents. The computer may or may not be a necessary tool to understand\\nthe dynamics of these markets. This survey will concentrate on the cases where analytic solutions would\\nbe impossible, and computational tools are necessary.3It is important to distinguish agent-based models', metadata={'source': './test_data/pdfs/DR--185549702_INTRO.pdf', 'page': 2})]"
      ]
     },
     "execution_count": 313,
     "metadata": {},
     "output_type": "execute_result"
    }
   ],
   "source": [
    "context"
   ]
  },
  {
   "cell_type": "markdown",
   "id": "180aa1e7-b39e-4123-b85f-a9eaf4952a32",
   "metadata": {},
   "source": [
    "### Querying with multiple splitting strategy"
   ]
  },
  {
   "cell_type": "code",
   "execution_count": 314,
   "id": "1ff6946d-d312-4fbf-b13a-869d1c1eec75",
   "metadata": {},
   "outputs": [],
   "source": [
    "splitting_strategy = [{'type':'recursive','params':{'chunk_size':1000,'chunk_overlap':200}},\n",
    "                        {'type':'semantic','params':None},\n",
    "                     ]\n",
    "\n",
    "context = retrieve_context(docs, splitting_strategy, question, database = 'faiss', k = 3)"
   ]
  },
  {
   "cell_type": "code",
   "execution_count": 221,
   "id": "21f7e086-7a18-4cf9-ad85-0790c76a41f8",
   "metadata": {},
   "outputs": [
    {
     "data": {
      "text/plain": [
       "[Document(page_content='to ﬁnancial economists as it is potentially unappealing to ﬁnancial practitioners.1It is interesting to note\\nthat these foundations came with a very important computational dimension. The early availability of large\\nmachine-readable data sets, and the computational power to analyze them, laid the critical foundation for\\nthis new ﬁnancial rigor.2In agent-based computational models the computer is once again at the center\\nof a change in thinking about ﬁnancial markets. This time it is helping to pursue a world view in which\\nagents may diﬀer in many ways, not just in their information, but in their ability to process information,\\ntheir attitudes toward risk, and in many other dimensions.\\nModels in the realm of agent-based computational ﬁnance view ﬁnancial markets as interacting groups\\nof learning, boundedly-rational agents. The computer may or may not be a necessary tool to understand\\nthe dynamics of these markets. This survey will concentrate on the cases where analytic solutions would', metadata={'source': './test_data/pdfs/DR--185549702_INTRO.pdf', 'page': 2}),\n",
       " Document(page_content='Agent-based Computational Finance\\nBlake LeBaron∗\\nBrandeis University\\nApril 21st, 2005: Comments still welcome! Abstract\\nThis chapter surveys research on agent-based models used in ﬁnance. It will concentrate on models\\nwhere the use of computational tools is critical for the process of crafting models which give insights into\\nthe importance and dynamics of investor heterogeneity in many ﬁnancial settings. ∗International Business School, Brandeis University, 415 South Street, Mailstop 32, Waltham, MA 02453 - 2728, ble-\\nbaron@brandeis.edu, www.brandeis.edu/∼blebaron. The author is also a research associate at the National Bureau of Economic\\nResearch. This is a preliminary draft for The Handbook of Computational Economics, vol. II, , edited by K. L. Judd and L. Tesfatsion. The author is grateful to many people who have made comments on earlier drafts. These include W.', metadata={'source': './test_data/pdfs/DR--185549702_INTRO.pdf', 'page': 0}),\n",
       " Document(page_content='Agent-based Computational Finance\\nBlake LeBaron∗\\nBrandeis University\\nApril 21st, 2005: Comments still welcome!\\nAbstract\\nThis chapter surveys research on agent-based models used in ﬁnance. It will concentrate on models\\nwhere the use of computational tools is critical for the process of crafting models which give insights into\\nthe importance and dynamics of investor heterogeneity in many ﬁnancial settings.\\n∗International Business School, Brandeis University, 415 South Street, Mailstop 32, Waltham, MA 02453 - 2728, ble-\\nbaron@brandeis.edu, www.brandeis.edu/∼blebaron. The author is also a research associate at the National Bureau of Economic\\nResearch. This is a preliminary draft for The Handbook of Computational Economics, vol. II, , edited by K. L. Judd and L.\\nTesfatsion. The author is grateful to many people who have made comments on earlier drafts. These include W. A. Brock,\\nCars Hommes, Leigh Tesfatsion, Frank Westerhoﬀ, and two anonymous referees.\\n1', metadata={'source': './test_data/pdfs/DR--185549702_INTRO.pdf', 'page': 0})]"
      ]
     },
     "execution_count": 221,
     "metadata": {},
     "output_type": "execute_result"
    }
   ],
   "source": [
    "context"
   ]
  },
  {
   "cell_type": "code",
   "execution_count": null,
   "id": "d07dcaed-70d1-497b-9822-6397c6b04f45",
   "metadata": {},
   "outputs": [],
   "source": []
  },
  {
   "cell_type": "markdown",
   "id": "462b2141-8a52-431c-a749-262c72bd70a4",
   "metadata": {},
   "source": [
    "# Running LLM Self Eval Tests"
   ]
  },
  {
   "cell_type": "markdown",
   "id": "a880beda-e81f-49d1-a5a7-35d7dd59d45f",
   "metadata": {},
   "source": [
    "In this section, you can run the LLM self eval pipeline using the Experiment class. Given the source pdfs, splitting strategy and evaluation questions, this pipeline computes the context and the subsequent answer from the LLM using the context, for every question. The question-answer pair is then evaluated by an LLM and classified as either Correct or Incorrect, based on the LLM's assessment. "
   ]
  },
  {
   "cell_type": "markdown",
   "id": "f673c4d3-56b1-4a3c-bf32-ea88f57b19c9",
   "metadata": {},
   "source": [
    "## Running a single experiment"
   ]
  },
  {
   "cell_type": "code",
   "execution_count": 302,
   "id": "1b9d6e8c-edb2-426c-9e70-812abe4a99d2",
   "metadata": {},
   "outputs": [],
   "source": [
    "splitting_strategy = {'type':'recursive','params':{'chunk_size':500,'chunk_overlap':100}}\n",
    "\n",
    "exp = Experiment(df = df,\n",
    "                 docs = docs,\n",
    "                 splitting_strategy= splitting_strategy,\n",
    "                 database = 'faiss',\n",
    "                 k = 3,\n",
    "                 num_evals=3\n",
    "                )"
   ]
  },
  {
   "cell_type": "code",
   "execution_count": 303,
   "id": "20213859-9b5a-4cc1-9f81-bc60ae95ad97",
   "metadata": {},
   "outputs": [
    {
     "name": "stderr",
     "output_type": "stream",
     "text": [
      "100%|███████████████████████████████████████████| 33/33 [02:33<00:00,  4.66s/it]"
     ]
    },
    {
     "name": "stdout",
     "output_type": "stream",
     "text": [
      "Accuracy : 0.85\n"
     ]
    },
    {
     "name": "stderr",
     "output_type": "stream",
     "text": [
      "\n"
     ]
    }
   ],
   "source": [
    "exp.run_test()"
   ]
  },
  {
   "cell_type": "markdown",
   "id": "abe845fb-4486-4644-931b-8fe6a1cf71ac",
   "metadata": {},
   "source": [
    "## Running multiple experiments "
   ]
  },
  {
   "cell_type": "code",
   "execution_count": 305,
   "id": "5519dcaa-6634-4e47-9e86-a41bb5f5acb2",
   "metadata": {},
   "outputs": [
    {
     "name": "stderr",
     "output_type": "stream",
     "text": [
      "100%|███████████████████████████████████████████| 33/33 [02:45<00:00,  5.01s/it]\n"
     ]
    },
    {
     "name": "stdout",
     "output_type": "stream",
     "text": [
      "Accuracy : 0.85\n"
     ]
    },
    {
     "name": "stderr",
     "output_type": "stream",
     "text": [
      "100%|███████████████████████████████████████████| 33/33 [02:40<00:00,  4.87s/it]\n"
     ]
    },
    {
     "name": "stdout",
     "output_type": "stream",
     "text": [
      "Accuracy : 0.88\n"
     ]
    },
    {
     "name": "stderr",
     "output_type": "stream",
     "text": [
      "100%|███████████████████████████████████████████| 33/33 [02:41<00:00,  4.91s/it]"
     ]
    },
    {
     "name": "stdout",
     "output_type": "stream",
     "text": [
      "Accuracy : 0.85\n"
     ]
    },
    {
     "name": "stderr",
     "output_type": "stream",
     "text": [
      "\n"
     ]
    }
   ],
   "source": [
    "for chunks in [[1000,200],[2000,200],[500,200]]:\n",
    "    for k in [5]:\n",
    "\n",
    "        chunk_size, chunk_overlap = chunks \n",
    "        splitting_strategy = {'type':'recursive','params':{'chunk_size':chunk_size,'chunk_overlap':chunk_overlap}}\n",
    "        \n",
    "        exp = Experiment(df = df,\n",
    "                 docs = docs,\n",
    "                 splitting_strategy= splitting_strategy,\n",
    "                 database = 'faiss',\n",
    "                 k = k,\n",
    "                 num_evals = 3\n",
    "                )\n",
    "        \n",
    "           \n",
    "        exp.run_test()\n",
    "        "
   ]
  },
  {
   "cell_type": "code",
   "execution_count": null,
   "id": "748b632f-380c-4fd4-a80a-7fe2ea84bb86",
   "metadata": {},
   "outputs": [],
   "source": []
  },
  {
   "cell_type": "code",
   "execution_count": null,
   "id": "c9f7606c-9ed1-450c-8e5e-49db6d1b19aa",
   "metadata": {},
   "outputs": [],
   "source": []
  },
  {
   "cell_type": "code",
   "execution_count": null,
   "id": "4bca7960-2a2e-43f1-9d5e-aebfe488f829",
   "metadata": {},
   "outputs": [],
   "source": []
  },
  {
   "cell_type": "code",
   "execution_count": null,
   "id": "b8866b6c-6665-4221-9cb2-a07af4722fa5",
   "metadata": {},
   "outputs": [],
   "source": []
  },
  {
   "cell_type": "code",
   "execution_count": null,
   "id": "9cea4b80-5cb7-45f6-bb82-2caf5dd1abd7",
   "metadata": {},
   "outputs": [],
   "source": []
  }
 ],
 "metadata": {
  "kernelspec": {
   "display_name": "Python 3 (ipykernel)",
   "language": "python",
   "name": "python3"
  },
  "language_info": {
   "codemirror_mode": {
    "name": "ipython",
    "version": 3
   },
   "file_extension": ".py",
   "mimetype": "text/x-python",
   "name": "python",
   "nbconvert_exporter": "python",
   "pygments_lexer": "ipython3",
   "version": "3.11.8"
  }
 },
 "nbformat": 4,
 "nbformat_minor": 5
}
